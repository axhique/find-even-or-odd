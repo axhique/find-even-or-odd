{
 "cells": [
  {
   "cell_type": "code",
   "execution_count": null,
   "metadata": {},
   "outputs": [],
   "source": [
    "number = input(\"Enter the sequence:\").split(',')\n",
    "even = 0\n",
    "odd = 0\n",
    "for i in number:\n",
    "    if int(i)%2==0:\n",
    "        even += 1\n",
    "    else:\n",
    "        odd +=1\n",
    "print (number)  \n",
    "print(\"even :\",even,\"\\nodd :\",odd)"
   ]
  }
 ],
 "metadata": {
  "language_info": {
   "name": "python"
  },
  "orig_nbformat": 4
 },
 "nbformat": 4,
 "nbformat_minor": 2
}
